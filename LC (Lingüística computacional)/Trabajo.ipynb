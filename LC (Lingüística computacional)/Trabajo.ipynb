{
  "nbformat": 4,
  "nbformat_minor": 0,
  "metadata": {
    "colab": {
      "name": "POS_taggin.py",
      "provenance": [],
      "collapsed_sections": []
    },
    "kernelspec": {
      "display_name": "Python 3",
      "name": "python3"
    },
    "language_info": {
      "name": "python"
    }
  },
  "cells": [
    {
      "cell_type": "markdown",
      "metadata": {
        "id": "rN9-tfGSsj6f"
      },
      "source": [
        "# Tarea 1"
      ]
    },
    {
      "cell_type": "code",
      "metadata": {
        "colab": {
          "base_uri": "https://localhost:8080/"
        },
        "id": "Lb2WFzCLxcR0",
        "outputId": "cb82524d-54dd-4642-b5e0-6f4564293ed3"
      },
      "source": [
        "import nltk\n",
        "import time\n",
        "from random import shuffle\n",
        "from copy import copy\n",
        "nltk.download('cess_esp')\n",
        "from nltk.corpus import cess_esp # Descargar corpus\n",
        "from nltk.tag import hmm\n",
        "from nltk.tag import tnt\n",
        "start = time.time()\n",
        "corpus_sentences = cess_esp.tagged_sents() # Lista de listas del corpus\n",
        "number_sentences=len(corpus_sentences)\n",
        "print('number sentences:', number_sentences)\n",
        "print('number words:', end=\" \")\n",
        "nw = 0\n",
        "for s in range(len(corpus_sentences)):\n",
        "  nw= nw + len(corpus_sentences[s])\n",
        "print(nw)\n",
        "print('')\n",
        "# Procesar corpus y simplificar las categorías\n",
        "corpus_limpio = []\n",
        "corpus_original = list(corpus_sentences)\n",
        "for lista in corpus_sentences: # lista de listas de tuplas\n",
        "  # enumerate(lista) en la cabecera del for tenemos el indice de 0 a n y la tupla, que es lo que hay en la lista\n",
        "  indexBorrar = []\n",
        "  for index, tupla in enumerate(lista): # lista de listas de tuplas, dentro de cada tupla, lo primero es la palabra seguido de la categoría\n",
        "    palabra, categoria = tupla # Python acutomaticamente asigna el primer elemento de la tupla a palabra, y el segundo a categoria\n",
        "    if palabra == '*0*': # Eliminar estas palabras del corpus\n",
        "      indexBorrar.append(index) # Guardo los índices a borrar para borrarlos luego de forma segura\n",
        "      continue\n",
        "    elif len(categoria) == 1: # Las categorías de longitud 1 no se tocan\n",
        "      continue\n",
        "    elif categoria.startswith('v') or categoria.startswith('F'): # verbos y signos de puntuación conservan 3 primeras letras\n",
        "      tupla = (palabra, categoria[:3])\n",
        "    else: # El resto, 2 primeras letras\n",
        "      tupla = (palabra, categoria[:2])\n",
        "    lista[index] = tupla\n",
        "  for x in sorted(indexBorrar, reverse=True): # Borramos las palabras en los índices seleccionados\n",
        "    del lista[x]\n",
        "  corpus_limpio.append(lista)\n",
        "\n",
        "corpus_limpio_barajado = corpus_limpio.copy()\n",
        "corpus_original_barajado = corpus_original.copy()\n",
        "shuffle(corpus_limpio_barajado)\n",
        "shuffle(corpus_original_barajado)\n",
        "end = time.time()\n",
        "print(end - start)"
      ],
      "execution_count": null,
      "outputs": [
        {
          "output_type": "stream",
          "name": "stdout",
          "text": [
            "[nltk_data] Downloading package cess_esp to /root/nltk_data...\n",
            "[nltk_data]   Package cess_esp is already up-to-date!\n",
            "number sentences: 6030\n",
            "number words: 192685\n",
            "\n",
            "25.772756099700928\n"
          ]
        }
      ]
    },
    {
      "cell_type": "code",
      "metadata": {
        "colab": {
          "base_uri": "https://localhost:8080/",
          "height": 370
        },
        "id": "kaMiHZUHtm8L",
        "outputId": "45bc7aa9-9c27-4118-a187-b25377dfc00b"
      },
      "source": [
        "start = time.time()\n",
        "# Corpus Original Barajando HMM Cross validation\n",
        "tamaño = int(len(corpus_original_barajado)/10)\n",
        "resultados1 = []\n",
        "for i in range(10):\n",
        "  entrenamiento = corpus_original_barajado[:tamaño*i] + corpus_original_barajado[tamaño*i + tamaño:]\n",
        "  test = corpus_original_barajado[tamaño*i: tamaño*i + tamaño]\n",
        "  tagger_hmm = hmm.HiddenMarkovModelTagger.train(entrenamiento)\n",
        "  resultados1.append(tagger_hmm.evaluate(test))\n",
        "print(resultados1) \n",
        "end = time.time()\n",
        "print(end - start)"
      ],
      "execution_count": null,
      "outputs": [
        {
          "output_type": "error",
          "ename": "KeyboardInterrupt",
          "evalue": "ignored",
          "traceback": [
            "\u001b[0;31m---------------------------------------------------------------------------\u001b[0m",
            "\u001b[0;31mKeyboardInterrupt\u001b[0m                         Traceback (most recent call last)",
            "\u001b[0;32m<ipython-input-3-9c2c9ca0e139>\u001b[0m in \u001b[0;36m<module>\u001b[0;34m()\u001b[0m\n\u001b[1;32m      7\u001b[0m   \u001b[0mtest\u001b[0m \u001b[0;34m=\u001b[0m \u001b[0mcorpus_original_barajado\u001b[0m\u001b[0;34m[\u001b[0m\u001b[0mtamaño\u001b[0m\u001b[0;34m*\u001b[0m\u001b[0mi\u001b[0m\u001b[0;34m:\u001b[0m \u001b[0mtamaño\u001b[0m\u001b[0;34m*\u001b[0m\u001b[0mi\u001b[0m \u001b[0;34m+\u001b[0m \u001b[0mtamaño\u001b[0m\u001b[0;34m]\u001b[0m\u001b[0;34m\u001b[0m\u001b[0;34m\u001b[0m\u001b[0m\n\u001b[1;32m      8\u001b[0m   \u001b[0mtagger_hmm\u001b[0m \u001b[0;34m=\u001b[0m \u001b[0mhmm\u001b[0m\u001b[0;34m.\u001b[0m\u001b[0mHiddenMarkovModelTagger\u001b[0m\u001b[0;34m.\u001b[0m\u001b[0mtrain\u001b[0m\u001b[0;34m(\u001b[0m\u001b[0mentrenamiento\u001b[0m\u001b[0;34m)\u001b[0m\u001b[0;34m\u001b[0m\u001b[0;34m\u001b[0m\u001b[0m\n\u001b[0;32m----> 9\u001b[0;31m   \u001b[0mresultados1\u001b[0m\u001b[0;34m.\u001b[0m\u001b[0mappend\u001b[0m\u001b[0;34m(\u001b[0m\u001b[0mtagger_hmm\u001b[0m\u001b[0;34m.\u001b[0m\u001b[0mevaluate\u001b[0m\u001b[0;34m(\u001b[0m\u001b[0mtest\u001b[0m\u001b[0;34m)\u001b[0m\u001b[0;34m)\u001b[0m\u001b[0;34m\u001b[0m\u001b[0;34m\u001b[0m\u001b[0m\n\u001b[0m\u001b[1;32m     10\u001b[0m \u001b[0mprint\u001b[0m\u001b[0;34m(\u001b[0m\u001b[0mresultados1\u001b[0m\u001b[0;34m)\u001b[0m\u001b[0;34m\u001b[0m\u001b[0;34m\u001b[0m\u001b[0m\n\u001b[1;32m     11\u001b[0m \u001b[0mend\u001b[0m \u001b[0;34m=\u001b[0m \u001b[0mtime\u001b[0m\u001b[0;34m.\u001b[0m\u001b[0mtime\u001b[0m\u001b[0;34m(\u001b[0m\u001b[0;34m)\u001b[0m\u001b[0;34m\u001b[0m\u001b[0;34m\u001b[0m\u001b[0m\n",
            "\u001b[0;32m/usr/local/lib/python3.7/dist-packages/nltk/tag/api.py\u001b[0m in \u001b[0;36mevaluate\u001b[0;34m(self, gold)\u001b[0m\n\u001b[1;32m     67\u001b[0m         \"\"\"\n\u001b[1;32m     68\u001b[0m \u001b[0;34m\u001b[0m\u001b[0m\n\u001b[0;32m---> 69\u001b[0;31m         \u001b[0mtagged_sents\u001b[0m \u001b[0;34m=\u001b[0m \u001b[0mself\u001b[0m\u001b[0;34m.\u001b[0m\u001b[0mtag_sents\u001b[0m\u001b[0;34m(\u001b[0m\u001b[0muntag\u001b[0m\u001b[0;34m(\u001b[0m\u001b[0msent\u001b[0m\u001b[0;34m)\u001b[0m \u001b[0;32mfor\u001b[0m \u001b[0msent\u001b[0m \u001b[0;32min\u001b[0m \u001b[0mgold\u001b[0m\u001b[0;34m)\u001b[0m\u001b[0;34m\u001b[0m\u001b[0;34m\u001b[0m\u001b[0m\n\u001b[0m\u001b[1;32m     70\u001b[0m         \u001b[0mgold_tokens\u001b[0m \u001b[0;34m=\u001b[0m \u001b[0mlist\u001b[0m\u001b[0;34m(\u001b[0m\u001b[0mchain\u001b[0m\u001b[0;34m(\u001b[0m\u001b[0;34m*\u001b[0m\u001b[0mgold\u001b[0m\u001b[0;34m)\u001b[0m\u001b[0;34m)\u001b[0m\u001b[0;34m\u001b[0m\u001b[0;34m\u001b[0m\u001b[0m\n\u001b[1;32m     71\u001b[0m         \u001b[0mtest_tokens\u001b[0m \u001b[0;34m=\u001b[0m \u001b[0mlist\u001b[0m\u001b[0;34m(\u001b[0m\u001b[0mchain\u001b[0m\u001b[0;34m(\u001b[0m\u001b[0;34m*\u001b[0m\u001b[0mtagged_sents\u001b[0m\u001b[0;34m)\u001b[0m\u001b[0;34m)\u001b[0m\u001b[0;34m\u001b[0m\u001b[0;34m\u001b[0m\u001b[0m\n",
            "\u001b[0;32m/usr/local/lib/python3.7/dist-packages/nltk/tag/api.py\u001b[0m in \u001b[0;36mtag_sents\u001b[0;34m(self, sentences)\u001b[0m\n\u001b[1;32m     54\u001b[0m             \u001b[0;32mreturn\u001b[0m \u001b[0;34m[\u001b[0m\u001b[0mself\u001b[0m\u001b[0;34m.\u001b[0m\u001b[0mtag\u001b[0m\u001b[0;34m(\u001b[0m\u001b[0msent\u001b[0m\u001b[0;34m)\u001b[0m \u001b[0;32mfor\u001b[0m \u001b[0msent\u001b[0m \u001b[0;32min\u001b[0m \u001b[0msentences\u001b[0m\u001b[0;34m]\u001b[0m\u001b[0;34m\u001b[0m\u001b[0;34m\u001b[0m\u001b[0m\n\u001b[1;32m     55\u001b[0m         \"\"\"\n\u001b[0;32m---> 56\u001b[0;31m         \u001b[0;32mreturn\u001b[0m \u001b[0;34m[\u001b[0m\u001b[0mself\u001b[0m\u001b[0;34m.\u001b[0m\u001b[0mtag\u001b[0m\u001b[0;34m(\u001b[0m\u001b[0msent\u001b[0m\u001b[0;34m)\u001b[0m \u001b[0;32mfor\u001b[0m \u001b[0msent\u001b[0m \u001b[0;32min\u001b[0m \u001b[0msentences\u001b[0m\u001b[0;34m]\u001b[0m\u001b[0;34m\u001b[0m\u001b[0;34m\u001b[0m\u001b[0m\n\u001b[0m\u001b[1;32m     57\u001b[0m \u001b[0;34m\u001b[0m\u001b[0m\n\u001b[1;32m     58\u001b[0m     \u001b[0;32mdef\u001b[0m \u001b[0mevaluate\u001b[0m\u001b[0;34m(\u001b[0m\u001b[0mself\u001b[0m\u001b[0;34m,\u001b[0m \u001b[0mgold\u001b[0m\u001b[0;34m)\u001b[0m\u001b[0;34m:\u001b[0m\u001b[0;34m\u001b[0m\u001b[0;34m\u001b[0m\u001b[0m\n",
            "\u001b[0;32m/usr/local/lib/python3.7/dist-packages/nltk/tag/api.py\u001b[0m in \u001b[0;36m<listcomp>\u001b[0;34m(.0)\u001b[0m\n\u001b[1;32m     54\u001b[0m             \u001b[0;32mreturn\u001b[0m \u001b[0;34m[\u001b[0m\u001b[0mself\u001b[0m\u001b[0;34m.\u001b[0m\u001b[0mtag\u001b[0m\u001b[0;34m(\u001b[0m\u001b[0msent\u001b[0m\u001b[0;34m)\u001b[0m \u001b[0;32mfor\u001b[0m \u001b[0msent\u001b[0m \u001b[0;32min\u001b[0m \u001b[0msentences\u001b[0m\u001b[0;34m]\u001b[0m\u001b[0;34m\u001b[0m\u001b[0;34m\u001b[0m\u001b[0m\n\u001b[1;32m     55\u001b[0m         \"\"\"\n\u001b[0;32m---> 56\u001b[0;31m         \u001b[0;32mreturn\u001b[0m \u001b[0;34m[\u001b[0m\u001b[0mself\u001b[0m\u001b[0;34m.\u001b[0m\u001b[0mtag\u001b[0m\u001b[0;34m(\u001b[0m\u001b[0msent\u001b[0m\u001b[0;34m)\u001b[0m \u001b[0;32mfor\u001b[0m \u001b[0msent\u001b[0m \u001b[0;32min\u001b[0m \u001b[0msentences\u001b[0m\u001b[0;34m]\u001b[0m\u001b[0;34m\u001b[0m\u001b[0;34m\u001b[0m\u001b[0m\n\u001b[0m\u001b[1;32m     57\u001b[0m \u001b[0;34m\u001b[0m\u001b[0m\n\u001b[1;32m     58\u001b[0m     \u001b[0;32mdef\u001b[0m \u001b[0mevaluate\u001b[0m\u001b[0;34m(\u001b[0m\u001b[0mself\u001b[0m\u001b[0;34m,\u001b[0m \u001b[0mgold\u001b[0m\u001b[0;34m)\u001b[0m\u001b[0;34m:\u001b[0m\u001b[0;34m\u001b[0m\u001b[0;34m\u001b[0m\u001b[0m\n",
            "\u001b[0;32m/usr/local/lib/python3.7/dist-packages/nltk/tag/hmm.py\u001b[0m in \u001b[0;36mtag\u001b[0;34m(self, unlabeled_sequence)\u001b[0m\n\u001b[1;32m    268\u001b[0m         \"\"\"\n\u001b[1;32m    269\u001b[0m         \u001b[0munlabeled_sequence\u001b[0m \u001b[0;34m=\u001b[0m \u001b[0mself\u001b[0m\u001b[0;34m.\u001b[0m\u001b[0m_transform\u001b[0m\u001b[0;34m(\u001b[0m\u001b[0munlabeled_sequence\u001b[0m\u001b[0;34m)\u001b[0m\u001b[0;34m\u001b[0m\u001b[0;34m\u001b[0m\u001b[0m\n\u001b[0;32m--> 270\u001b[0;31m         \u001b[0;32mreturn\u001b[0m \u001b[0mself\u001b[0m\u001b[0;34m.\u001b[0m\u001b[0m_tag\u001b[0m\u001b[0;34m(\u001b[0m\u001b[0munlabeled_sequence\u001b[0m\u001b[0;34m)\u001b[0m\u001b[0;34m\u001b[0m\u001b[0;34m\u001b[0m\u001b[0m\n\u001b[0m\u001b[1;32m    271\u001b[0m \u001b[0;34m\u001b[0m\u001b[0m\n\u001b[1;32m    272\u001b[0m     \u001b[0;32mdef\u001b[0m \u001b[0m_tag\u001b[0m\u001b[0;34m(\u001b[0m\u001b[0mself\u001b[0m\u001b[0;34m,\u001b[0m \u001b[0munlabeled_sequence\u001b[0m\u001b[0;34m)\u001b[0m\u001b[0;34m:\u001b[0m\u001b[0;34m\u001b[0m\u001b[0;34m\u001b[0m\u001b[0m\n",
            "\u001b[0;32m/usr/local/lib/python3.7/dist-packages/nltk/tag/hmm.py\u001b[0m in \u001b[0;36m_tag\u001b[0;34m(self, unlabeled_sequence)\u001b[0m\n\u001b[1;32m    271\u001b[0m \u001b[0;34m\u001b[0m\u001b[0m\n\u001b[1;32m    272\u001b[0m     \u001b[0;32mdef\u001b[0m \u001b[0m_tag\u001b[0m\u001b[0;34m(\u001b[0m\u001b[0mself\u001b[0m\u001b[0;34m,\u001b[0m \u001b[0munlabeled_sequence\u001b[0m\u001b[0;34m)\u001b[0m\u001b[0;34m:\u001b[0m\u001b[0;34m\u001b[0m\u001b[0;34m\u001b[0m\u001b[0m\n\u001b[0;32m--> 273\u001b[0;31m         \u001b[0mpath\u001b[0m \u001b[0;34m=\u001b[0m \u001b[0mself\u001b[0m\u001b[0;34m.\u001b[0m\u001b[0m_best_path\u001b[0m\u001b[0;34m(\u001b[0m\u001b[0munlabeled_sequence\u001b[0m\u001b[0;34m)\u001b[0m\u001b[0;34m\u001b[0m\u001b[0;34m\u001b[0m\u001b[0m\n\u001b[0m\u001b[1;32m    274\u001b[0m         \u001b[0;32mreturn\u001b[0m \u001b[0mlist\u001b[0m\u001b[0;34m(\u001b[0m\u001b[0mzip\u001b[0m\u001b[0;34m(\u001b[0m\u001b[0munlabeled_sequence\u001b[0m\u001b[0;34m,\u001b[0m \u001b[0mpath\u001b[0m\u001b[0;34m)\u001b[0m\u001b[0;34m)\u001b[0m\u001b[0;34m\u001b[0m\u001b[0;34m\u001b[0m\u001b[0m\n\u001b[1;32m    275\u001b[0m \u001b[0;34m\u001b[0m\u001b[0m\n",
            "\u001b[0;32m/usr/local/lib/python3.7/dist-packages/nltk/tag/hmm.py\u001b[0m in \u001b[0;36m_best_path\u001b[0;34m(self, unlabeled_sequence)\u001b[0m\n\u001b[1;32m    370\u001b[0m         \u001b[0mT\u001b[0m \u001b[0;34m=\u001b[0m \u001b[0mlen\u001b[0m\u001b[0;34m(\u001b[0m\u001b[0munlabeled_sequence\u001b[0m\u001b[0;34m)\u001b[0m\u001b[0;34m\u001b[0m\u001b[0;34m\u001b[0m\u001b[0m\n\u001b[1;32m    371\u001b[0m         \u001b[0mN\u001b[0m \u001b[0;34m=\u001b[0m \u001b[0mlen\u001b[0m\u001b[0;34m(\u001b[0m\u001b[0mself\u001b[0m\u001b[0;34m.\u001b[0m\u001b[0m_states\u001b[0m\u001b[0;34m)\u001b[0m\u001b[0;34m\u001b[0m\u001b[0;34m\u001b[0m\u001b[0m\n\u001b[0;32m--> 372\u001b[0;31m         \u001b[0mself\u001b[0m\u001b[0;34m.\u001b[0m\u001b[0m_create_cache\u001b[0m\u001b[0;34m(\u001b[0m\u001b[0;34m)\u001b[0m\u001b[0;34m\u001b[0m\u001b[0;34m\u001b[0m\u001b[0m\n\u001b[0m\u001b[1;32m    373\u001b[0m         \u001b[0mself\u001b[0m\u001b[0;34m.\u001b[0m\u001b[0m_update_cache\u001b[0m\u001b[0;34m(\u001b[0m\u001b[0munlabeled_sequence\u001b[0m\u001b[0;34m)\u001b[0m\u001b[0;34m\u001b[0m\u001b[0;34m\u001b[0m\u001b[0m\n\u001b[1;32m    374\u001b[0m         \u001b[0mP\u001b[0m\u001b[0;34m,\u001b[0m \u001b[0mO\u001b[0m\u001b[0;34m,\u001b[0m \u001b[0mX\u001b[0m\u001b[0;34m,\u001b[0m \u001b[0mS\u001b[0m \u001b[0;34m=\u001b[0m \u001b[0mself\u001b[0m\u001b[0;34m.\u001b[0m\u001b[0m_cache\u001b[0m\u001b[0;34m\u001b[0m\u001b[0;34m\u001b[0m\u001b[0m\n",
            "\u001b[0;32m/usr/local/lib/python3.7/dist-packages/nltk/tag/hmm.py\u001b[0m in \u001b[0;36m_create_cache\u001b[0;34m(self)\u001b[0m\n\u001b[1;32m    316\u001b[0m                     \u001b[0mX\u001b[0m\u001b[0;34m[\u001b[0m\u001b[0mi\u001b[0m\u001b[0;34m,\u001b[0m \u001b[0mj\u001b[0m\u001b[0;34m]\u001b[0m \u001b[0;34m=\u001b[0m \u001b[0mself\u001b[0m\u001b[0;34m.\u001b[0m\u001b[0m_transitions\u001b[0m\u001b[0;34m[\u001b[0m\u001b[0msi\u001b[0m\u001b[0;34m]\u001b[0m\u001b[0;34m.\u001b[0m\u001b[0mlogprob\u001b[0m\u001b[0;34m(\u001b[0m\u001b[0mself\u001b[0m\u001b[0;34m.\u001b[0m\u001b[0m_states\u001b[0m\u001b[0;34m[\u001b[0m\u001b[0mj\u001b[0m\u001b[0;34m]\u001b[0m\u001b[0;34m)\u001b[0m\u001b[0;34m\u001b[0m\u001b[0;34m\u001b[0m\u001b[0m\n\u001b[1;32m    317\u001b[0m                 \u001b[0;32mfor\u001b[0m \u001b[0mk\u001b[0m \u001b[0;32min\u001b[0m \u001b[0mrange\u001b[0m\u001b[0;34m(\u001b[0m\u001b[0mM\u001b[0m\u001b[0;34m)\u001b[0m\u001b[0;34m:\u001b[0m\u001b[0;34m\u001b[0m\u001b[0;34m\u001b[0m\u001b[0m\n\u001b[0;32m--> 318\u001b[0;31m                     \u001b[0mO\u001b[0m\u001b[0;34m[\u001b[0m\u001b[0mi\u001b[0m\u001b[0;34m,\u001b[0m \u001b[0mk\u001b[0m\u001b[0;34m]\u001b[0m \u001b[0;34m=\u001b[0m \u001b[0mself\u001b[0m\u001b[0;34m.\u001b[0m\u001b[0m_output_logprob\u001b[0m\u001b[0;34m(\u001b[0m\u001b[0msi\u001b[0m\u001b[0;34m,\u001b[0m \u001b[0mself\u001b[0m\u001b[0;34m.\u001b[0m\u001b[0m_symbols\u001b[0m\u001b[0;34m[\u001b[0m\u001b[0mk\u001b[0m\u001b[0;34m]\u001b[0m\u001b[0;34m)\u001b[0m\u001b[0;34m\u001b[0m\u001b[0;34m\u001b[0m\u001b[0m\n\u001b[0m\u001b[1;32m    319\u001b[0m             \u001b[0mS\u001b[0m \u001b[0;34m=\u001b[0m \u001b[0;34m{\u001b[0m\u001b[0;34m}\u001b[0m\u001b[0;34m\u001b[0m\u001b[0;34m\u001b[0m\u001b[0m\n\u001b[1;32m    320\u001b[0m             \u001b[0;32mfor\u001b[0m \u001b[0mk\u001b[0m \u001b[0;32min\u001b[0m \u001b[0mrange\u001b[0m\u001b[0;34m(\u001b[0m\u001b[0mM\u001b[0m\u001b[0;34m)\u001b[0m\u001b[0;34m:\u001b[0m\u001b[0;34m\u001b[0m\u001b[0;34m\u001b[0m\u001b[0m\n",
            "\u001b[0;32m/usr/local/lib/python3.7/dist-packages/nltk/tag/hmm.py\u001b[0m in \u001b[0;36m_output_logprob\u001b[0;34m(self, state, symbol)\u001b[0m\n\u001b[1;32m    280\u001b[0m         \u001b[0;34m:\u001b[0m\u001b[0mrtype\u001b[0m\u001b[0;34m:\u001b[0m \u001b[0mfloat\u001b[0m\u001b[0;34m\u001b[0m\u001b[0;34m\u001b[0m\u001b[0m\n\u001b[1;32m    281\u001b[0m         \"\"\"\n\u001b[0;32m--> 282\u001b[0;31m         \u001b[0;32mreturn\u001b[0m \u001b[0mself\u001b[0m\u001b[0;34m.\u001b[0m\u001b[0m_outputs\u001b[0m\u001b[0;34m[\u001b[0m\u001b[0mstate\u001b[0m\u001b[0;34m]\u001b[0m\u001b[0;34m.\u001b[0m\u001b[0mlogprob\u001b[0m\u001b[0;34m(\u001b[0m\u001b[0msymbol\u001b[0m\u001b[0;34m)\u001b[0m\u001b[0;34m\u001b[0m\u001b[0;34m\u001b[0m\u001b[0m\n\u001b[0m\u001b[1;32m    283\u001b[0m \u001b[0;34m\u001b[0m\u001b[0m\n\u001b[1;32m    284\u001b[0m     \u001b[0;32mdef\u001b[0m \u001b[0m_create_cache\u001b[0m\u001b[0;34m(\u001b[0m\u001b[0mself\u001b[0m\u001b[0;34m)\u001b[0m\u001b[0;34m:\u001b[0m\u001b[0;34m\u001b[0m\u001b[0;34m\u001b[0m\u001b[0m\n",
            "\u001b[0;32m/usr/local/lib/python3.7/dist-packages/nltk/probability.py\u001b[0m in \u001b[0;36mlogprob\u001b[0;34m(self, sample)\u001b[0m\n\u001b[1;32m    478\u001b[0m         \u001b[0;31m# Default definition, in terms of prob()\u001b[0m\u001b[0;34m\u001b[0m\u001b[0;34m\u001b[0m\u001b[0;34m\u001b[0m\u001b[0m\n\u001b[1;32m    479\u001b[0m         \u001b[0mp\u001b[0m \u001b[0;34m=\u001b[0m \u001b[0mself\u001b[0m\u001b[0;34m.\u001b[0m\u001b[0mprob\u001b[0m\u001b[0;34m(\u001b[0m\u001b[0msample\u001b[0m\u001b[0;34m)\u001b[0m\u001b[0;34m\u001b[0m\u001b[0;34m\u001b[0m\u001b[0m\n\u001b[0;32m--> 480\u001b[0;31m         \u001b[0;32mreturn\u001b[0m \u001b[0;34m(\u001b[0m\u001b[0mmath\u001b[0m\u001b[0;34m.\u001b[0m\u001b[0mlog\u001b[0m\u001b[0;34m(\u001b[0m\u001b[0mp\u001b[0m\u001b[0;34m,\u001b[0m \u001b[0;36m2\u001b[0m\u001b[0;34m)\u001b[0m \u001b[0;32mif\u001b[0m \u001b[0mp\u001b[0m \u001b[0;34m!=\u001b[0m \u001b[0;36m0\u001b[0m \u001b[0;32melse\u001b[0m \u001b[0m_NINF\u001b[0m\u001b[0;34m)\u001b[0m\u001b[0;34m\u001b[0m\u001b[0;34m\u001b[0m\u001b[0m\n\u001b[0m\u001b[1;32m    481\u001b[0m \u001b[0;34m\u001b[0m\u001b[0m\n\u001b[1;32m    482\u001b[0m     \u001b[0;34m@\u001b[0m\u001b[0mabstractmethod\u001b[0m\u001b[0;34m\u001b[0m\u001b[0;34m\u001b[0m\u001b[0m\n",
            "\u001b[0;31mKeyboardInterrupt\u001b[0m: "
          ]
        }
      ]
    },
    {
      "cell_type": "code",
      "metadata": {
        "colab": {
          "base_uri": "https://localhost:8080/"
        },
        "id": "ahpAnadTuJuh",
        "outputId": "d27d5439-a790-489b-9b05-cfc687e533c0"
      },
      "source": [
        "# Corpus Reducido Barajando HMM Cross validation\n",
        "tamaño = int(len(corpus_limpio_barajado)/10)\n",
        "resultados2 = []\n",
        "for i in range(10):\n",
        "  entrenamiento = corpus_limpio_barajado[:tamaño*i] + corpus_limpio_barajado[tamaño*i + tamaño:]\n",
        "  test = corpus_limpio_barajado[tamaño*i: tamaño*i + tamaño]\n",
        "  tagger_hmm = hmm.HiddenMarkovModelTagger.train(entrenamiento)\n",
        "  resultados2.append(tagger_hmm.evaluate(test))\n",
        "print(resultados2) "
      ],
      "execution_count": null,
      "outputs": [
        {
          "output_type": "stream",
          "name": "stdout",
          "text": [
            "[0.9293604039553965, 0.9245978895604958, 0.9266211604095563, 0.92515469464622, 0.9265806988352745, 0.9267236828212438, 0.9251538298323785, 0.9267222465993857, 0.9242314083921894, 0.923384550620922]\n"
          ]
        }
      ]
    },
    {
      "cell_type": "code",
      "metadata": {
        "id": "ab4m_n4iuZLa"
      },
      "source": [
        "# 95% de confianza, sabiendo que son proporciones\n",
        "import math\n",
        "def calcularErrores(x):\n",
        "  errores = [None] * len(x)\n",
        "  for i in range(len(x)):\n",
        "    errores[i] = 1.96*math.sqrt(x[i]*(1-x[i]) /tamaño) \n",
        "  return errores"
      ],
      "execution_count": null,
      "outputs": []
    },
    {
      "cell_type": "code",
      "metadata": {
        "colab": {
          "base_uri": "https://localhost:8080/",
          "height": 295
        },
        "id": "1D05ucsVudiA",
        "outputId": "cb7d1f23-698b-4326-9541-ef781ad6dc7f"
      },
      "source": [
        "# Corpus Original Barajando HMM Cross validation\n",
        "import matplotlib.pyplot as plt\n",
        "import statistics\n",
        "x = [i for i in range(10)]\n",
        "y = resultados1\n",
        "errores = calcularErrores(y)\n",
        "plt.axis([-1, 10, 0.80, 0.96])\n",
        "plt.ylabel('Precisión')\n",
        "plt.xlabel('Partición')\n",
        "plt.title('Corpus Original HMM barajando Cross Validation')\n",
        "plt.plot(x,y,'ro')\n",
        "plt.errorbar(x,y,yerr=errores,linestyle='None')\n",
        "plt.show()"
      ],
      "execution_count": null,
      "outputs": [
        {
          "output_type": "display_data",
          "data": {
            "image/png": "[encoded data removed]",
            "text/plain": [
              "<Figure size 432x288 with 1 Axes>"
            ]
          },
          "metadata": {
            "needs_background": "light"
          }
        }
      ]
    },
    {
      "cell_type": "code",
      "metadata": {
        "colab": {
          "base_uri": "https://localhost:8080/",
          "height": 295
        },
        "id": "qmi_HNsxvg4J",
        "outputId": "8bf97edb-f560-4266-e67d-d6268617af24"
      },
      "source": [
        "# Corpus Reducido Barajando HMM Cross validation\n",
        "import matplotlib.pyplot as plt\n",
        "import statistics\n",
        "x = [i for i in range(10)]\n",
        "y = resultados2\n",
        "errores = calcularErrores(y)\n",
        "plt.axis([-1, 10, 0.80, 0.96])\n",
        "plt.ylabel('Precisión')\n",
        "plt.xlabel('Partición')\n",
        "plt.title('Corpus Reducido HMM barajando Cross Validation')\n",
        "plt.plot(x,y,'ro')\n",
        "plt.errorbar(x,y,yerr=errores,linestyle='None')\n",
        "plt.show()"
      ],
      "execution_count": null,
      "outputs": [
        {
          "output_type": "display_data",
          "data": {
            "image/png": "[encoded data removed]",
            "text/plain": [
              "<Figure size 432x288 with 1 Axes>"
            ]
          },
          "metadata": {
            "needs_background": "light"
          }
        }
      ]
    },
    {
      "cell_type": "code",
      "metadata": {
        "colab": {
          "base_uri": "https://localhost:8080/"
        },
        "id": "Fmztx_4Fz9Ji",
        "outputId": "00ce507b-66e3-408e-f0d1-568265a0ecb2"
      },
      "source": [
        "print('Corpus Original HMM barajando')\n",
        "print('Partición - Precisión - Intervalo de confianza')\n",
        "errores1 = calcularErrores(resultados1)\n",
        "for i in range(10):\n",
        "  media = resultados1[i]\n",
        "  error = errores1[i]\n",
        "  print('   ',i, '       ',round(media,3), '     (',round(media-error,3) ,'-' ,round(media+error,3),')')"
      ],
      "execution_count": null,
      "outputs": [
        {
          "output_type": "stream",
          "name": "stdout",
          "text": [
            "Corpus Original HMM barajando\n",
            "Partición - Precisión - Intervalo de confianza\n",
            "    0         0.893      ( 0.868 - 0.918 )\n",
            "    1         0.894      ( 0.869 - 0.918 )\n",
            "    2         0.891      ( 0.866 - 0.916 )\n",
            "    3         0.895      ( 0.871 - 0.92 )\n",
            "    4         0.898      ( 0.874 - 0.922 )\n",
            "    5         0.894      ( 0.869 - 0.918 )\n",
            "    6         0.892      ( 0.868 - 0.917 )\n",
            "    7         0.89      ( 0.865 - 0.915 )\n",
            "    8         0.895      ( 0.871 - 0.92 )\n",
            "    9         0.897      ( 0.873 - 0.921 )\n"
          ]
        }
      ]
    },
    {
      "cell_type": "code",
      "metadata": {
        "colab": {
          "base_uri": "https://localhost:8080/"
        },
        "id": "AX0qbz2J0zO6",
        "outputId": "4c4020f8-3e4d-4b7b-9f3f-cb68d9c92dfd"
      },
      "source": [
        "print('Corpus Reducido HMM barajando')\n",
        "print('Partición - Precisión - Intervalo de confianza')\n",
        "errores2 = calcularErrores(resultados2)\n",
        "for i in range(10):\n",
        "  media = resultados2[i]\n",
        "  error = errores2[i]\n",
        "  print('   ',i, '       ',round(media,3), '     (',round(media-error,3) ,'-' ,round(media+error,3),')')"
      ],
      "execution_count": null,
      "outputs": [
        {
          "output_type": "stream",
          "name": "stdout",
          "text": [
            "Corpus Reducido HMM barajando\n",
            "Partición - Precisión - Intervalo de confianza\n",
            "    0         0.929      ( 0.909 - 0.95 )\n",
            "    1         0.925      ( 0.904 - 0.946 )\n",
            "    2         0.927      ( 0.906 - 0.947 )\n",
            "    3         0.925      ( 0.904 - 0.946 )\n",
            "    4         0.927      ( 0.906 - 0.947 )\n",
            "    5         0.927      ( 0.906 - 0.948 )\n",
            "    6         0.925      ( 0.904 - 0.946 )\n",
            "    7         0.927      ( 0.906 - 0.948 )\n",
            "    8         0.924      ( 0.903 - 0.945 )\n",
            "    9         0.923      ( 0.902 - 0.945 )\n"
          ]
        }
      ]
    },
    {
      "cell_type": "markdown",
      "metadata": {
        "id": "-oMQeZOl4NKV"
      },
      "source": [
        "# Tarea 2"
      ]
    },
    {
      "cell_type": "code",
      "metadata": {
        "id": "AU-wP2d-4QCG",
        "colab": {
          "base_uri": "https://localhost:8080/"
        },
        "outputId": "733faa24-df5d-40df-e261-36c7d35f2f37"
      },
      "source": [
        "# Corpus Reducido barajado HMM variando cantidad de entrenamiento\n",
        "tamaño = int(len(corpus_limpio_barajado)/10)\n",
        "resultados3 = []\n",
        "test = corpus_limpio_barajado[tamaño*9:]\n",
        "for i in range(9):\n",
        "  entrenamiento = corpus_limpio_barajado[:tamaño*(i+1)]\n",
        "  tagger_hmm = hmm.HiddenMarkovModelTagger.train(entrenamiento)\n",
        "  resultados3.append(tagger_hmm.evaluate(test))\n",
        "print(resultados3) "
      ],
      "execution_count": null,
      "outputs": [
        {
          "output_type": "stream",
          "name": "stdout",
          "text": [
            "[0.845407467974925, 0.874897792313982, 0.8914690651403652, 0.9028618152085037, 0.9094576178795312, 0.9162714636140638, 0.9219950940310712, 0.926573998364677, 0.9294630689561189]\n"
          ]
        }
      ]
    },
    {
      "cell_type": "code",
      "metadata": {
        "colab": {
          "base_uri": "https://localhost:8080/",
          "height": 295
        },
        "id": "i17oVMi07b4a",
        "outputId": "d1daa53c-29e7-4959-d0dd-a0c6c56b9bf7"
      },
      "source": [
        "# Corpus Reducido sin barajar HMM variando cantidad de entrenamiento\n",
        "import matplotlib.pyplot as plt\n",
        "import statistics\n",
        "x = [i+1 for i in range(9)]\n",
        "y = resultados3\n",
        "errores = calcularErrores(y)\n",
        "plt.axis([-1, 10, 0.75, 1])\n",
        "plt.ylabel('Precisión')\n",
        "plt.xlabel('Particiones usadas para entrenamiento')\n",
        "plt.title('Prestaciones respecto a cantidad de datos de entrenamiento')\n",
        "plt.plot(x,y,'ro')\n",
        "plt.errorbar(x,y,yerr=errores,linestyle='None')\n",
        "plt.show()"
      ],
      "execution_count": null,
      "outputs": [
        {
          "output_type": "display_data",
          "data": {
            "image/png": "[encoded data removed]",
            "text/plain": [
              "<Figure size 432x288 with 1 Axes>"
            ]
          },
          "metadata": {
            "needs_background": "light"
          }
        }
      ]
    },
    {
      "cell_type": "code",
      "metadata": {
        "colab": {
          "base_uri": "https://localhost:8080/"
        },
        "id": "f0n_Ui4q9On0",
        "outputId": "d9438d13-a88f-415a-a11d-02d3907eab08"
      },
      "source": [
        "print('Evaluación de prestaciones respecto a cantidad de datos de entrenamiento')\n",
        "print('Particiones usadas - Precisión - Intervalo de confianza')\n",
        "errores3 = calcularErrores(resultados3)\n",
        "for i in range(9):\n",
        "  media = resultados3[i]\n",
        "  error = errores3[i]\n",
        "  print('       ',i+1, '            ',round(media,3), '     (',round(media-error,3) ,'-' ,round(media+error,3),')')"
      ],
      "execution_count": null,
      "outputs": [
        {
          "output_type": "stream",
          "name": "stdout",
          "text": [
            "Evaluación de prestaciones respecto a cantidad de datos de entrenamiento\n",
            "Particiones usadas - Precisión - Intervalo de confianza\n",
            "        1              0.845      ( 0.817 - 0.874 )\n",
            "        2              0.875      ( 0.848 - 0.901 )\n",
            "        3              0.891      ( 0.867 - 0.916 )\n",
            "        4              0.903      ( 0.879 - 0.926 )\n",
            "        5              0.909      ( 0.887 - 0.932 )\n",
            "        6              0.916      ( 0.894 - 0.938 )\n",
            "        7              0.922      ( 0.901 - 0.943 )\n",
            "        8              0.927      ( 0.906 - 0.947 )\n",
            "        9              0.929      ( 0.909 - 0.95 )\n"
          ]
        }
      ]
    },
    {
      "cell_type": "markdown",
      "metadata": {
        "id": "WvSYSxln6v_B"
      },
      "source": [
        "# Tarea 3"
      ]
    },
    {
      "cell_type": "code",
      "metadata": {
        "colab": {
          "base_uri": "https://localhost:8080/"
        },
        "id": "n1Pxe7pD6y_X",
        "outputId": "fb22e90b-7bc3-4219-f68a-a286fc1901df"
      },
      "source": [
        "# Corpus reducido barajado TnT, distintos tamaños de sufijos para palabras desconocidas\n",
        "from nltk.tag import AffixTagger\n",
        "tamaño = int(len(corpus_limpio_barajado)/10)\n",
        "resultados4 = []\n",
        "test = corpus_limpio_barajado[tamaño*9:]\n",
        "entrenamiento = corpus_limpio_barajado[:tamaño*9]\n",
        "for i in range(7):\n",
        "  sufix_tagger = AffixTagger(entrenamiento, affix_length=-i)\n",
        "  tagger_tnt = tnt.TnT(N=100, unk=sufix_tagger, Trained=True)\n",
        "  tagger_tnt.train(entrenamiento)\n",
        "  resultados4.append(tagger_tnt.evaluate(test))\n",
        "print(resultados4) "
      ],
      "execution_count": null,
      "outputs": [
        {
          "output_type": "stream",
          "name": "stdout",
          "text": [
            "[0.8986529151757525, 0.929330667227952, 0.939275941906967, 0.94832666806988, 0.9456430225215744, 0.9365922963586614, 0.92527888865502]\n"
          ]
        }
      ]
    },
    {
      "cell_type": "code",
      "metadata": {
        "colab": {
          "base_uri": "https://localhost:8080/",
          "height": 295
        },
        "id": "RPsKhA2FHsxv",
        "outputId": "4c4d068d-dbc1-42c3-b35f-4862789db397"
      },
      "source": [
        "# Corpus reducido barajado TnT, distintos tamaños de sufijos para palabras desconocidas\n",
        "import matplotlib.pyplot as plt\n",
        "import statistics\n",
        "x = [i for i in range(7)]\n",
        "y = resultados4\n",
        "errores = calcularErrores(y)\n",
        "plt.axis([-1, 7, 0.85, 1])\n",
        "plt.ylabel('Precisión')\n",
        "plt.xlabel('Tamaño del sufijo')\n",
        "plt.title('Método de suavizado para palabras desconocidas')\n",
        "plt.plot(x,y,'ro')\n",
        "plt.errorbar(x,y,yerr=errores,linestyle='None')\n",
        "plt.show()"
      ],
      "execution_count": null,
      "outputs": [
        {
          "output_type": "display_data",
          "data": {
            "image/png": "[encoded data removed]",
            "text/plain": [
              "<Figure size 432x288 with 1 Axes>"
            ]
          },
          "metadata": {
            "needs_background": "light"
          }
        }
      ]
    },
    {
      "cell_type": "code",
      "metadata": {
        "colab": {
          "base_uri": "https://localhost:8080/"
        },
        "id": "V5CbugU2IdDj",
        "outputId": "2da9be17-258d-43e0-9b69-8467dca2ed14"
      },
      "source": [
        "print('Evaluación de prestaciones respecto a método de suavizado para palabras desconocidas')\n",
        "print('Tamaño sufijo - Precisión - Intervalo de confianza')\n",
        "errores4 = calcularErrores(resultados4)\n",
        "for i in range(7):\n",
        "  media = resultados4[i]\n",
        "  error = errores4[i]\n",
        "  print('     ',i, '       ',round(media,3), '     (',round(media-error,3) ,'-' ,round(media+error,3),')')"
      ],
      "execution_count": null,
      "outputs": [
        {
          "output_type": "stream",
          "name": "stdout",
          "text": [
            "Evaluación de prestaciones respecto a método de suavizado para palabras desconocidas\n",
            "Tamaño sufijo - Precisión - Intervalo de confianza\n",
            "      0         0.899      ( 0.875 - 0.923 )\n",
            "      1         0.929      ( 0.909 - 0.95 )\n",
            "      2         0.939      ( 0.92 - 0.958 )\n",
            "      3         0.948      ( 0.931 - 0.966 )\n",
            "      4         0.946      ( 0.928 - 0.964 )\n",
            "      5         0.937      ( 0.917 - 0.956 )\n",
            "      6         0.925      ( 0.904 - 0.946 )\n"
          ]
        }
      ]
    },
    {
      "cell_type": "markdown",
      "metadata": {
        "id": "dAjOSuotIlXK"
      },
      "source": [
        "# Tarea 4"
      ]
    },
    {
      "cell_type": "code",
      "metadata": {
        "id": "qdC1Gx4EIp3a",
        "colab": {
          "base_uri": "https://localhost:8080/"
        },
        "outputId": "074a4d97-00b5-4430-93f5-159b99646d16"
      },
      "source": [
        "start = time.time()\n",
        "from nltk.tag import UnigramTagger, brill, brill_trainer\n",
        "# Etiquetador Brill con etiquetado inicial Unigram Tagger\n",
        "tamaño = int(len(corpus_limpio_barajado)/10)\n",
        "test = corpus_limpio_barajado[tamaño*9:]\n",
        "entrenamiento = corpus_limpio_barajado[:tamaño*9]\n",
        "unigramTagger = UnigramTagger(entrenamiento)\n",
        "brill.Template._cleartemplates()\n",
        "templates = brill.fntbl37()\n",
        "tagger = nltk.tag.brill_trainer.BrillTaggerTrainer(initial_tagger=unigramTagger, templates=templates, trace=3, deterministic=True).train(entrenamiento)\n",
        "resultadoBrillUni = tagger.evaluate(test)\n",
        "print(resultadoBrillUni)\n",
        "end = time.time()\n",
        "print(end - start)"
      ],
      "execution_count": null,
      "outputs": [
        {
          "output_type": "stream",
          "name": "stdout",
          "text": [
            "TBL train (fast) (seqs: 5427; tokens: 169996; tpls: 37; min score: 2; min acc: None)\n",
            "Finding initial useful rules...\n",
            "    Found 106831 useful rules.\n",
            "\n",
            "           B      |\n",
            "   S   F   r   O  |        Score = Fixed - Broken\n",
            "   c   i   o   t  |  R     Fixed = num tags changed incorrect -> correct\n",
            "   o   x   k   h  |  u     Broken = num tags changed correct -> incorrect\n",
            "   r   e   e   e  |  l     Other = num tags changed incorrect -> incorrect\n",
            "   e   d   n   r  |  e\n",
            "------------------+-------------------------------------------------------\n",
            "10601194 134   0  | pr->cs if Pos:vmi@[-3,-2,-1]\n",
            " 233 245  12   0  | da->pp if Pos:vmi@[1]\n",
            " 197 288  91   0  | pr->cs if Word:que@[0] & Pos:sp@[-1]\n",
            " 164 331 167  13  | nc->aq if Pos:nc@[-1]\n",
            " 106 130  24   0  | pr->cs if Pos:vai@[-3,-2,-1]\n",
            "  94 104  10   0  | aq->vmp if Pos:vai@[-1]\n",
            "  91 139  48   1  | pr->cs if Pos:rg@[-2,-1]\n",
            "  87 104  17  10  | di->pi if Pos:sp@[1]\n",
            "  69  70   1   0  | pr->cs if Word:que@[0] & Pos:vmn@[-1]\n",
            "  60  60   0   0  | pr->cs if Word:que@[0] & Pos:vsi@[-1]\n",
            "  52  60   8   6  | di->pi if Word:,@[1]\n",
            "  52  57   5   0  | vmp->aq if Pos:nc@[-1]\n",
            "  50  50   0  11  | dn->pn if Pos:sp@[1]\n",
            "  39  39   0   0  | cs->pr if Word:que@[0] & Pos:da@[-1]\n",
            "  36  36   0   0  | pr->cs if Pos:aq@[-1] & Pos:vsi@[-2]\n",
            "  31  31   0   0  | cs->pr if Word:que@[0] & Word:al@[-1]\n",
            "  28  29   1   0  | sp->cs if Word:según@[0] & Pos:vmi@[1]\n",
            "  28  28   0   0  | da->pp if Pos:vai@[1]\n",
            "  24  60  36   0  | cs->pr if Word:que@[0] & Pos:nc@[-1]\n",
            "  24  28   4   2  | di->pi if Word:.@[1]\n",
            "  23  23   0   0  | da->pp if Pos:vms@[1]\n",
            "  22  22   0   0  | pn->dn if Pos:nc@[1]\n",
            "  19  19   0   0  | rg->di if Word:mucho@[0] & Pos:nc@[1]\n",
            "  19  19   0   0  | nc->vmp if Word:ha@[-1]\n",
            "  18  18   0   0  | nc->rg if Word:tarde@[0] & Pos:rg@[-1]\n",
            "  18  18   0   0  | pr->cs if Word:que@[0] & Pos:vms@[-1]\n",
            "  18  18   0   5  | pt->dt if Pos:nc@[1]\n",
            "  18  18   0   5  | vmp->nc if Pos:da@[-1]\n",
            "  16  16   0   0  | cs->pr if Word:quien@[0]\n",
            "  16  16   0   1  | dd->pd if Pos:vsi@[1]\n",
            "  15  15   0   0  | cs->pr if Word:que@[0] & Word:del@[-1]\n",
            "  14  71  57   0  | pr->cs if Word:que@[0] & Word:y@[-1]\n",
            "  18  25   7   0  | cs->pr if Pos:vmi@[1] & Word:que@[0] & Word:y@[-1]\n",
            "  14  18   4   0  | aq->nc if Pos:sp@[-1] & Pos:aq@[1]\n",
            "  14  26  12   0  | di->pi if Pos:vmi@[1]\n",
            "  15  15   0   1  | pi->di if Pos:pp@[-1]\n",
            "  14  15   1   2  | vmp->aq if Pos:aq@[-1]\n",
            "  13  13   0   0  | rg->nc if Word:mañana@[0] & Word:la@[-1]\n",
            "  13  13   0   0  | nc->vmn if Word:poder@[0] & Pos:vmn@[1]\n",
            "  13  14   1   1  | cs->pr if Word:donde@[0]\n",
            "  13  13   0   3  | nc->vmi if Word:se@[-1]\n",
            "  13  16   3   0  | vmp->aq if Pos:Fc@[-1] & Pos:sp@[1]\n",
            "  11  11   0   0  | aq->nc if Word:españoles@[0] & Word:los@[-1]\n",
            "  11  11   0   0  | nc->vmp if Word:han@[-1]\n",
            "  10  10   0   0  | da->pp if Word:lo@[0] & Pos:vsi@[1]\n",
            "  10  11   1   0  | cs->pr if Word:que@[0] & Pos:pi@[-1]\n",
            "  10  28  18   1  | aq->nc if Pos:sp@[-1] & Pos:sp@[1]\n",
            "  10  10   0   0  | vmp->aq if Pos:rg@[-1] & Pos:nc@[-2]\n",
            "  10  16   6   0  | vmp->aq if Pos:vmi@[-1]\n",
            "   9  11   2   0  | pr->cs if Word:que@[0] & Word:más@[-2]\n",
            "   9   9   0   0  | vmp->aq if Word:hay@[-2,-1]\n",
            "   9   9   0   0  | aq->di if Word:diferentes@[0] & Pos:sp@[-1]\n",
            "   9   9   0   0  | di->pi if Pos:pp@[1] & Pos:vmi@[2]\n",
            "   9  12   3   0  | pi->di if Pos:nc@[1]\n",
            "   9   9   0   8  | vmp->aq if Pos:sp@[-1]\n",
            "   8  10   2   0  | cs->pr if Word:que@[0] & Word:con@[-1]\n",
            "   8   8   0   0  | pr->cs if Word:que@[0] & Pos:vmg@[-1]\n",
            "   8   8   0   0  | aq->vmp if Pos:van@[-1]\n",
            "   8   8   0   0  | vmp->nc if Pos:di@[-1]\n",
            "   7  13   6   0  | nc->W if Word:año@[0] & Word:pasado@[1]\n",
            "   7   7   0   0  | vsn->nc if Word:ser@[0] & Word:humano@[1]\n",
            "   7   7   0   0  | aq->nc if Word:general@[0] & Pos:np@[1]\n",
            "   7   7   0   0  | pi->di if Word:una@[0] & Pos:vmi@[1]\n",
            "   7   7   0   0  | aq->nc if Word:público@[0] & Pos:sp@[-1]\n",
            "   7   9   2   0  | aq->rg if Word:mejor@[0] & Pos:vmi@[-1]\n",
            "   7   7   0   0  | di->pi if Word:que@[1]\n",
            "   7   7   0   0  | vmi->nc if Word:una@[-1]\n",
            "   7  12   5   0  | aq->nc if Pos:da@[-1] & Pos:vmi@[1]\n",
            "   7   9   2   3  | dn->pn if Pos:rg@[1]\n",
            "   7   9   2   1  | pi->di if Pos:da@[1]\n",
            "   6   8   2   0  | cs->pr if Word:en@[-1] & Word:que@[0] & Word:se@[1]\n",
            "   6   6   0   0  | pr->cs if Word:que@[0] & Word:periodistas@[-1]\n",
            "   6   9   3   0  | p0->pp if Word:se@[0] & Word:lo@[1]\n",
            "   6  10   4   0  | rn->rg if Word:no@[0] & Word:más_que@[2]\n",
            "   6   6   0   0  | pp->rg if Word:sí@[0] & Word:,@[-2]\n",
            "   6   8   2   0  | pr->cs if Word:que@[0] & Pos:dp@[-2]\n",
            "   6   6   0   0  | da->pp if Word:lo@[0] & Pos:vas@[1]\n",
            "   6   6   0   0  | aq->nc if Word:n@[0] & Pos:nc@[-1]\n",
            "   6   6   0   0  | aq->rg if Word:igual@[0] & Pos:vmi@[-1]\n",
            "   6   6   0   0  | pr->cs if Word:que@[0] & Pos:cs@[-1]\n",
            "   6   6   0   0  | rg->nc if Word:mañana@[0] & Pos:dd@[-1]\n",
            "   6   6   0   0  | vmi->nc if Word:busca@[0] & Pos:sp@[-1]\n",
            "   6   6   0   0  | di->pi if Word::@[1]\n",
            "   6   8   2   0  | dn->Z if Word:millones@[1]\n",
            "   6   6   0   0  | dn->pn if Word:\"@[1]\n",
            "   6   6   0   4  | dn->pn if Word:,@[1]\n",
            "   6  10   4   0  | aq->nc if Pos:di@[-1] & Pos:aq@[1]\n",
            "   6   6   0   2  | di->pi if Pos:sp@[-1] & Pos:cc@[1]\n",
            "   6   6   0   0  | di->pi if Pos:Fe@[1] & Pos:Fc@[2]\n",
            "   6   6   0   0  | di->pi if Pos:vms@[1]\n",
            "   6  13   7   3  | nc->vmi if Pos:pp@[-1]\n",
            "   6   8   2   0  | cs->pr if Pos:pp@[1] & Word:que@[0] & Word:y@[-1]\n",
            "   5   5   0   0  | aq->nc if Word:el@[-1] & Word:total@[0] & Word:de@[1]\n",
            "   5   5   0   0  | aq->nc if Word:total@[0] & Word:del@[-1]\n",
            "   5   5   0   0  | dd->np if Word:Este@[0] & Word:el@[-1]\n",
            "   5   5   0   0  | pr->cs if Word:que@[0] & Word::@[-1]\n",
            "   5   5   0   0  | pr->cs if Word:que@[0] & Word:igual@[-1]\n",
            "   5   6   1   0  | rg->pi if Word:poco@[0] & Word:un@[-1]\n",
            "   8  21  13   1  | di->pi if Pos:rg@[1]\n",
            "   5   5   0   0  | cs->rg if Word:mientras@[0] & Word:que@[1]\n",
            "   5   5   0   0  | di->pi if Word:todo@[0] & Word:y@[1]\n",
            "   5   5   0   0  | pr->cs if Word:prensa@[-2,-1]\n",
            "   5   5   0   0  | p0->pp if Word:sí@[1,2,3]\n",
            "   5   5   0   0  | aq->nc if Word:número@[0] & Pos:sp@[2]\n",
            "   5   5   0   0  | sp->cs if Word:según@[0] & Pos:vmi@[2]\n",
            "   6   6   0   0  | pp->da if Word:la@[0] & Pos:sp@[-1]\n",
            "   6   6   0   0  | vmi->nc if Pos:da@[-1] & Pos:sp@[-2]\n",
            "   5   5   0   0  | aq->nc if Word:ganado@[0] & Pos:nc@[-2]\n",
            "   5   5   0   0  | aq->nc if Word:profesional@[0] & Pos:nc@[-2]\n",
            "   5   8   3   0  | aq->di if Word:cierto@[0] & Pos:nc@[1]\n",
            "   5   5   0   1  | pi->di if Word:un@[0] & Pos:rg@[1]\n",
            "   5   5   0   0  | pp->rg if Word:sí@[0] & Pos:vmi@[1]\n",
            "   5   7   2   0  | aq->nc if Word:estadounidense@[0] & Pos:da@[-1]\n",
            "   5   5   0   0  | aq->nc if Word:miembros@[0] & Pos:nc@[-1]\n",
            "   5   5   0   0  | rg->nc if Word:bien@[0] & Pos:da@[-1]\n",
            "   5   5   0   0  | rg->vss if Word:fuera@[0] & Pos:cs@[-1]\n",
            "   5   5   0   0  | vmp->nc if Word:hecho@[0] & Pos:dd@[-1]\n",
            "   5   5   0   2  | dn->pn if Word:.@[1]\n",
            "   5   6   1   0  | dn->pn if Word:que@[1]\n",
            "   5  30  25   0  | aq->nc if Word:al@[-1]\n",
            "   6  13   7   0  | nc->aq if Pos:sp@[-1] & Pos:nc@[1]\n",
            "   5   5   0   0  | vsi->vmi if Word:se@[-1]\n",
            "   5   5   0   0  | aq->nc if Pos:da@[-1] & Pos:p0@[1]\n",
            "   5   5   0   5  | pi->di if Pos:nc@[-1] & Pos:Fc@[1]\n",
            "   5   6   1   1  | nc->vmi if Pos:pr@[-1] & Pos:da@[-2]\n",
            "   5   7   2   0  | cs->pr if Pos:vmi@[1] & Word:que@[0] & Word:,@[-1]\n",
            "   4   4   0   0  | ao->rg if Word:primero@[0] & Word:,@[-1]\n",
            "   4   4   0   0  | aq->nc if Word:políticas@[0] & Word:las@[-1]\n",
            "   4   4   0   0  | dd->pd if Word:tal@[0] & Word:como@[-1]\n",
            "   4   5   1   0  | sp->rg if Word:hasta@[0] & Word:y@[-1]\n",
            "   4   4   0   0  | ao->nc if Word:cuarto@[0] & Word:de@[1]\n",
            "   4   4   0   0  | dn->pn if Word:dos@[0] & Word:se@[1]\n",
            "   4   4   0   0  | nc->aq if Word:contrario@[0] & Word:a@[1]\n",
            "   4   4   0   0  | pr->cs if Word:que@[0] & Word:sus@[1]\n",
            "   4   4   0   0  | rn->rg if Word:no@[0] & Word:otra_cosa_que@[2]\n",
            "   4   4   0   0  | pr->cs if Word:que@[0] & Word:esta@[-2]\n",
            "   4   4   0   0  | aq->nc if Word:interior@[0] & Pos:sp@[-2]\n",
            "   4   4   0   0  | rg->di if Word:poco@[0] & Pos:nc@[1]\n",
            "   4   6   2   0  | rg->di if Word:tanto@[0] & Pos:nc@[1]\n",
            "   4   4   0   0  | rg->nc if Word:mal@[0] & Pos:sp@[1]\n",
            "   4   4   0   0  | vsi->nc if Word:era@[0] & Pos:np@[1]\n",
            "   4   4   0   0  | aq->nc if Word:clave@[0] & Pos:nc@[-1]\n",
            "   4   4   0   0  | aq->nc if Word:colombiano@[0] & Pos:da@[-1]\n",
            "   4   4   0   0  | dd->np if Word:Este@[0] & Pos:sp@[-1]\n",
            "   4   4   0   0  | pn->aq if Word:media@[0] & Pos:nc@[-1]\n",
            "   4   5   1   0  | rg->cc if Word:sin_embargo@[0] & Pos:cc@[-1]\n",
            "   4   4   0   4  | dn->pn if Word:y@[1]\n",
            "   4   4   0   0  | sp->nc if Word:-Fpt-@[1]\n",
            "   4   7   3   0  | aq->nc if Word:veces@[-1]\n",
            "   4   4   0   0  | aq->nc if Pos:sp@[-1] & Pos:rg@[1]\n",
            "   4   4   0   0  | pr->cs if Pos:aq@[-1] & Pos:Fe@[1]\n",
            "   4   6   2   0  | pr->cs if Pos:np@[-1] & Pos:vms@[1]\n",
            "   4   5   1   0  | di->pi if Pos:Fe@[1] & Pos:Fp@[2]\n",
            "   4   4   0   0  | nc->vmp if Pos:vas@[-1] & Pos:nc@[-2]\n",
            "   4   6   2   0  | pr->cs if Pos:Fc@[-1] & Pos:W@[-2]\n",
            "   4   4   0   1  | vmp->aq if Pos:Fc@[-1] & Pos:np@[-2]\n",
            "   4   4   0   0  | vmp->aq if Pos:rg@[-1] & Pos:vmi@[-2]\n",
            "   4   6   2   0  | di->pi if Pos:cs@[1]\n",
            "   4   4   0   1  | di->pi if Pos:vai@[1]\n",
            "   4   6   2   0  | di->pi if Pos:vsi@[1]\n",
            "   4   4   0   0  | aq->vmp if Pos:vas@[-1]\n",
            "   4   4   0   0  | vmp->aq if Pos:np@[-1]\n",
            "   4   4   0   0  | vmp->aq if Pos:vmn@[-1]\n",
            "   3   3   0   0  | aq->nc if Word:con@[-1] & Word:sistemas@[0] & Word:n@[1]\n",
            "   3   3   0   0  | aq->nc if Word:el@[-1] & Word:pleno@[0] & Word:del@[1]\n",
            "   3   3   0   0  | nc->sp if Word:local@[-1] & Word:vía@[0] & Word:radio@[1]\n",
            "   3   3   0   0  | aq->nc if Word:conductores@[0] & Word:los@[-1]\n",
            "   3   3   0   0  | aq->nc if Word:español@[0] & Word:el@[-1]\n",
            "   3   3   0   0  | aq->nc if Word:estadounidenses@[0] & Word:los@[-1]\n",
            "   3   3   0   0  | aq->nc if Word:opositor@[0] & Word:candidato@[-1]\n",
            "   3   3   0   0  | aq->nc if Word:político@[0] & Word:el@[-1]\n",
            "   3   3   0   0  | aq->nc if Word:radio@[0] & Word:vía@[-1]\n",
            "   3   3   0   0  | cs->pr if Word:que@[0] & Word:Ahora@[-1]\n",
            "   3   3   0   0  | nc->W if Word:mes@[0] & Word:el@[-1]\n",
            "   3   3   0   0  | nc->aq if Word:técnico@[0] & Word:y@[-1]\n",
            "   3   3   0   0  | pp->p0 if Word:te@[0] & Word:y@[-1]\n",
            "   3   3   0   0  | pr->cs if Word:que@[0] & Word:comunicado@[-1]\n",
            "   3   3   0   0  | pr->cs if Word:que@[0] & Word:tiempo@[-1]\n",
            "   3   3   0   0  | vsn->nc if Word:ser@[0] & Word:un@[-1]\n",
            "   3   7   4   0  | cs->pr if Word:que@[0] & Word:son@[1]\n",
            "   3   3   0   0  | nc->aq if Word:responsable@[0] & Word:la@[2]\n",
            "   3   3   0   0  | pi->di if Word:cada@[0] & Word:,@[2]\n",
            "   3   5   2   0  | pp->p0 if Word:nos@[0] & Word:de@[2]\n",
            "   3   3   0   0  | cs->pr if Word:que@[0] & Word:día@[-2]\n",
            "   3   3   0   0  | pp->p0 if Word:siento@[1,2]\n",
            "   3   3   0   0  | aq->nc if Word:transmisión@[-2,-1]\n",
            "   3   3   0   0  | pr->cs if Word:hombre@[1,2,3]\n",
            "   3   3   0   0  | pr->cs if Word:hubiera@[-3,-2,-1]\n",
            "   3   5   2   0  | pr->cs if Word:mejor@[-3,-2,-1]\n",
            "   3   4   1   0  | cs->pr if Word:que@[0] & Word:lo@[-2]\n",
            "   3   3   0   0  | pr->cs if Word:parece@[-3,-2,-1]\n",
            "   3   3   0   0  | pr->cs if Word:tanta@[-3,-2,-1]\n",
            "   3   3   0   0  | vsn->nc if Word:del@[-3,-2,-1]\n",
            "   3   3   0   0  | aq->nc if Word:seguro@[0] & Pos:nc@[2]\n",
            "   3   3   0   0  | aq->rg if Word:justo@[0] & Pos:da@[2]\n",
            "   3   3   0   0  | cc->rg if Word:Sin_embargo@[0] & Pos:np@[2]\n",
            "   3   3   0   0  | cc->rg if Word:ni@[0] & Pos:rg@[2]\n",
            "   3   3   0   0  | W->nc if Word:año@[0] & Pos:W@[-2]\n",
            "   3   3   0   0  | aq->nc if Word:negros@[0] & Pos:nc@[-2]\n",
            "   3   3   0   0  | aq->nc if Word:personal@[0] & Pos:nc@[-2]\n",
            "0.8972191205402243\n",
            "34.016905307769775\n"
          ]
        }
      ]
    },
    {
      "cell_type": "code",
      "metadata": {
        "id": "o44W18FhQIob",
        "colab": {
          "base_uri": "https://localhost:8080/"
        },
        "outputId": "c55dbc96-aa5d-4068-e364-1303b560c71d"
      },
      "source": [
        "# Etiquetador Brill con etiquetado inicial hmm\n",
        "start = time.time()\n",
        "tamaño = int(len(corpus_limpio_barajado)/10)\n",
        "test = corpus_limpio_barajado[tamaño*9:]\n",
        "entrenamiento = corpus_limpio_barajado[:tamaño*9]\n",
        "tagger_hmm = hmm.HiddenMarkovModelTagger.train(entrenamiento)\n",
        "brill.Template._cleartemplates()\n",
        "templates = brill.fntbl37()\n",
        "tagger = nltk.tag.brill_trainer.BrillTaggerTrainer(initial_tagger=tagger_hmm, templates=templates, trace=3, deterministic=True).train(entrenamiento)\n",
        "#tagger = nltk.tag.brill_trainer.BrillTaggerTrainer(initial_tagger=unigramTagger).train(entrenamiento)\n",
        "resultadoBrillHmm = tagger.evaluate(test)\n",
        "print(resultadoBrillHmm)\n",
        "end = time.time()\n",
        "print(end - start)"
      ],
      "execution_count": null,
      "outputs": [
        {
          "output_type": "stream",
          "name": "stdout",
          "text": [
            "TBL train (fast) (seqs: 5427; tokens: 169996; tpls: 37; min score: 2; min acc: None)\n",
            "Finding initial useful rules...\n",
            "    Found 131222 useful rules.\n",
            "\n",
            "           B      |\n",
            "   S   F   r   O  |        Score = Fixed - Broken\n",
            "   c   i   o   t  |  R     Fixed = num tags changed incorrect -> correct\n",
            "   o   x   k   h  |  u     Broken = num tags changed correct -> incorrect\n",
            "   r   e   e   e  |  l     Other = num tags changed incorrect -> incorrect\n",
            "   e   d   n   r  |  e\n",
            "------------------+-------------------------------------------------------\n",
            "  68  78  10   0  | sp->cs if Word:como@[0]\n",
            "  31  62  31  52  | Fg->nc if Pos:Fg@[-1] & Pos:Fg@[1]\n",
            "  31  31   0   0  | nc->Fg if Word:-@[0]\n",
            "  27  30   3   0  | pr->cs if Word:que@[0] & Word:de@[-1]\n",
            "  23  29   6   0  | cs->pr if Pos:sp@[1] & Word:que@[0] & Word:,@[-1]\n",
            "  21  21   0  10  | da->aq if Word:del@[-1]\n",
            "  16  26  10   0  | rg->cc if Word:Sin_embargo@[0] & Word:,@[1]\n",
            "  16  27  11   0  | pr->cs if Pos:p0@[1] & Pos:vms@[2]\n",
            "  15  15   0   0  | cs->pr if Word:que@[0] & Word:al@[-1]\n",
            "  15  15   0   8  | vmp->nc if Word:hay@[-2,-1]\n",
            "  15  15   0  24  | Fp->vmi if Pos:Z@[1] & Pos:nc@[2]\n",
            "  14  14   0   0  | rg->pp if Word:sí@[0] & Pos:sp@[-1]\n",
            "  13  13   0   0  | pr->cs if Word:cuando@[0] & Pos:nc@[-1]\n",
            "  13  18   5   0  | cs->pr if Pos:nc@[-1] & Word:que@[0] & Word:la@[1]\n",
            "  11  11   0   0  | p0->nc if Word:cuya@[-2,-1]\n",
            "  11  11   0   0  | rg->sp if Word:Hasta@[0]\n",
            "  11  29  18   2  | nc->aq if Pos:aq@[-1] & Pos:nc@[-2]\n",
            "  10  10   0   0  | pr->cs if Pos:aq@[-1] & Pos:vsi@[-2]\n",
            "   9  13   4  22  | Fp->np if Word:-@[1,2]\n",
            "   9  15   6   0  | di->pi if Word:una@[0] & Pos:sp@[1]\n",
            "   8   8   0   0  | cs->pr if Word:que@[0] & Word:del@[-1]\n",
            "   7  13   6   0  | nc->W if Word:año@[0] & Word:pasado@[1]\n",
            "   7   7   0   0  | aq->nc if Word:general@[0] & Pos:np@[1]\n",
            "   7   7   0   0  | Zm->np if Pos:Fpa@[1] & Pos:np@[2]\n",
            "   7   7   0   0  | cs->pr if Pos:Fc@[-1] & Word:que@[0] & Word:,@[1]\n",
            "   6   9   3   0  | p0->pp if Word:se@[0] & Word:lo@[1]\n",
            "   6  10   4   0  | rn->rg if Word:no@[0] & Word:más_que@[2]\n",
            "   6   7   1   0  | p0->nc if Word:cuyos@[-2,-1]\n",
            "   6   7   1   0  | rg->pi if Word:nada@[0] & Pos:rn@[-2]\n",
            "   6   7   1   0  | cs->pr if Word:que@[0] & Pos:pi@[-1]\n",
            "   6   7   1   0  | nc->vsn if Word:ser@[0] & Pos:sp@[-1]\n",
            "   6  12   6   0  | rg->cc if Word:ni@[0]\n",
            "   6   8   2   0  | dn->Z if Word:millones@[1]\n",
            "   6   6   0   0  | cs->aq if Word:está@[-1]\n",
            "   6   6   0   3  | da->aq if Word:al@[-1]\n",
            "   6   6   0   1  | p0->nc if Word:cuyo@[-1]\n",
            "   6   9   3   4  | vmi->np if Pos:nc@[-1] & Pos:Z@[1]\n",
            "   6   6   0   0  | di->pi if Pos:Fe@[1] & Pos:Fc@[2]\n",
            "   5   5   0   0  | nc->rg if Word:mañana@[0] & Word:de@[-1]\n",
            "   5   5   0   0  | pi->di if Word:misma@[0] & Word:sí@[-1]\n",
            "   5   5   0   0  | pr->cs if Word:que@[0] & Word:desde@[-1]\n",
            "   5   5   0   0  | cs->rg if Word:mientras@[0] & Word:que@[1]\n",
            "   5   5   0   0  | rg->aq if Word:igual@[0] & Word:que@[1]\n",
            "   5   6   1   0  | aq->np if Word:estadio@[-2,-1]\n",
            "   5   5   0   1  | pr->cs if Word:hasta@[-2,-1]\n",
            "   5   5   0   5  | vmn->nc if Word:del@[-2,-1]\n",
            "   5   5   0   0  | p0->pp if Word:sí@[1,2,3]\n",
            "   5   5   0   0  | vsn->nc if Word:del@[-3,-2,-1]\n",
            "   5   6   1   0  | pp->rg if Word:sí@[0] & Pos:vmi@[1]\n",
            "   5   5   0   0  | rg->sp if Word:hasta@[0] & Pos:rg@[1]\n",
            "   5   6   1   0  | nc->ao if Word:tercero@[0]\n",
            "   5  11   6   3  | pr->cs if Pos:Fc@[-1] & Pos:rg@[-2]\n",
            "   5   5   0   0  | pr->cs if Pos:aq@[-1] & Pos:vmi@[-2]\n",
            "   4   4   0   0  | aq->ao if Word:segundo@[0] & Word:vicepresidente@[-1]\n",
            "   4   4   0   0  | aq->pi if Word:mismo@[0] & Word:lo@[-1]\n",
            "   4   4   0   1  | aq->pn if Word:media@[0] & Word:y@[-1]\n",
            "   4   5   1   0  | nc->np if Word:Presidencia@[0] & Word:la@[-1]\n",
            "   4   4   0   0  | nc->pn if Word:miles@[0] & Word:de@[1]\n",
            "   4   4   0   0  | np->Fp if Word:.@[0] & Word:-@[1]\n",
            "   4   4   0   0  | rn->rg if Word:no@[0] & Word:otra_cosa_que@[2]\n",
            "   4   6   2   0  | nc->np if Word:GMT@[0] & Word:las@[-2]\n",
            "   4   4   0   0  | pr->cs if Word:que@[0] & Word:tan@[-2]\n",
            "   4   4   0   0  | cs->pr if Word:decir@[1,2]\n",
            "   4   4   0   0  | pi->di if Word:ello@[1,2]\n",
            "   4   4   0   0  | cs->pr if Word:día@[-2,-1]\n",
            "   4   7   3   0  | cc->cs if Word:mientras_que@[0] & Pos:aq@[-2]\n",
            "   4   4   0   0  | da->aq if Word:plena@[0] & Pos:nc@[1]\n",
            "   4   6   2   0  | aq->rg if Word:mejor@[0] & Pos:vmi@[-1]\n",
            "   4   6   2   0  | di->aq if Word:diferentes@[0] & Pos:da@[-1]\n",
            "   4   5   1   0  | rg->cc if Word:sin_embargo@[0] & Pos:cc@[-1]\n",
            "   4   4   0   0  | rg->rn if Word:no@[0] & Pos:vmi@[-1]\n",
            "   4   4   0   0  | rg->vss if Word:fuera@[0] & Pos:cs@[-1]\n",
            "   4  10   6   0  | rg->pi if Word:algo@[0]\n",
            "   4   4   0   0  | da->nc if Word:n@[1]\n",
            "   4   4   0   0  | dn->pn if Word:que@[1]\n",
            "   4   4   0   0  | dn->pn if Word:y@[1]\n",
            "   4   5   1   0  | di->pi if Pos:Fe@[1] & Pos:Fp@[2]\n",
            "   4   5   1   0  | vmp->aq if Pos:Fc@[-1] & Pos:np@[-2]\n",
            "   4   5   1   7  | Fp->nc if Pos:sp@[1,2,3]\n",
            "   3   3   0   0  | cs->pr if Word:que@[0] & Word:el@[1] & Word:próximo@[2]\n",
            "   3   3   0   1  | cs->vmp if Word:,@[-1] & Word:incluidos@[0] & Word:los@[1]\n",
            "   3   3   0   0  | Z->nc if Word:transmisión@[0] & Word:-Fpa-@[-1]\n",
            "   3   3   0   0  | aq->nc if Word:opositor@[0] & Word:candidato@[-1]\n",
            "   3   3   0   0  | da->Fz if Word:'@[0] & Word:de@[-1]\n",
            "   3   3   0   0  | nc->W if Word:mes@[0] & Word:el@[-1]\n",
            "   3   3   0   0  | nc->aq if Word:técnico@[0] & Word:y@[-1]\n",
            "   3   3   0   0  | nc->pn if Word:medio@[0] & Word:y@[-1]\n",
            "   3   3   0   0  | np->px if Word:los_suyos@[0] & Word:de@[-1]\n",
            "   3   3   0   0  | pp->p0 if Word:te@[0] & Word:y@[-1]\n",
            "   3   3   0   0  | pr->cs if Word:que@[0] & Word:periodistas@[-1]\n",
            "   3   3   0   0  | pr->cs if Word:que@[0] & Word:prensa@[-1]\n",
            "   3   3   0   0  | pr->cs if Word:que@[0] & Word:seguro@[-1]\n",
            "   3   3   0   0  | pr->cs if Word:que@[0] & Word:tiempo@[-1]\n",
            "   3   3   0   0  | nc->pn if Word:cuatro@[0] & Word:de@[1]\n",
            "   3   3   0   0  | rg->pi if Word:Algo@[0] & Word:parecido@[1]\n",
            "   3   3   0   0  | nc->aq if Word:responsable@[0] & Word:la@[2]\n",
            "   3   5   2   0  | pp->p0 if Word:nos@[0] & Word:de@[2]\n",
            "   3   3   0   0  | pr->cs if Word:que@[0] & Word:esta@[-2]\n",
            "   3  10   7   0  | pr->cs if Word:que@[0] & Word:más@[-2]\n",
            "   3   3   0   0  | pp->p0 if Word:siento@[1,2]\n",
            "   3   3   0   0  | np->Zp if Word:reducción@[-2,-1]\n",
            "   3   3   0   1  | vmp->nc if Word:Hay@[-2,-1]\n",
            "   3   3   0   0  | cc->rg if Word:Sin_embargo@[0] & Pos:np@[2]\n",
            "   3   3   0   0  | nc->aq if Word:hecho@[0] & Pos:nc@[2]\n",
            "   3   5   2   0  | nc->aq if Word:total@[0] & Pos:Z@[2]\n",
            "   3   3   0   0  | W->nc if Word:año@[0] & Pos:W@[-2]\n",
            "   3   3   0   0  | cs->pr if Word:que@[0] & Pos:dn@[-2]\n",
            "   3   3   0   0  | da->aq if Word:dicho@[0] & Pos:nc@[1]\n",
            "   3   3   0   0  | di->pi if Word:todos@[0] & Pos:aq@[1]\n",
            "   3   3   0   0  | pp->da if Word:lo@[0] & Pos:rg@[1]\n",
            "   3   3   0   0  | aq->dp if Word:suyo@[0] & Pos:nc@[-1]\n",
            "   3   3   0   0  | rg->aq if Word:claro@[0]\n",
            "   3   3   0   1  | da->vmi if Word:tarjeta@[1]\n",
            "   3   3   0   0  | pi->di if Word:ellos@[1]\n",
            "   3   3   0   0  | aq->nc if Word:mayor@[-1]\n",
            "   3   3   0   0  | cs->aq if Word:estaba@[-1]\n",
            "   3   4   1   0  | cs->aq if Word:están@[-1]\n",
            "   3   3   0   0  | rn->nc if Word:cuyo@[-1]\n",
            "   3   3   0   0  | vmi->nc if Word:cuya@[-1]\n",
            "   3   3   0   0  | Fit->nc if Pos:pt@[-1] & Pos:Fp@[1]\n",
            "   3   3   0   0  | Fp->Z if Pos:aq@[-1] & Pos:vsi@[1]\n",
            "   3   3   0   0  | cs->pr if Pos:Fe@[-1] & Pos:vms@[1]\n",
            "   3   3   0   0  | da->pp if Pos:pr@[-1] & Pos:pr@[1]\n",
            "   3   3   0   0  | pt->de if Pos:nc@[1] & Pos:Fp@[2]\n",
            "   3   3   0   0  | aq->nc if Pos:aq@[-1] & Pos:di@[-2]\n",
            "   3   3   0   0  | aq->vmp if Pos:cc@[-1] & Pos:vmp@[-2]\n",
            "   3   3   0   0  | pr->cs if Pos:sp@[-1] & Pos:vmi@[-2]\n",
            "   3   3   0   0  | pr->vmi if Pos:pp@[-1] & Pos:pr@[-2]\n",
            "   3   4   1   0  | cs->pr if Pos:nc@[-1] & Word:que@[0] & Word:se@[1]\n",
            "   2   2   0   0  | Z->Zp if Word:cuatro_de_cada_diez@[0] & Word:-Fpt-@[1] &\n",
            "                  |   Word:.@[2]\n",
            "   2   2   0   0  | Z->nc if Word:D@[0] & Word:-Fpt-@[1] & Word:y@[2]\n",
            "   2   2   0   0  | aq->Z if Word:sub'23@[0] & Word:de@[1] & Word:México@[2]\n",
            "   2   2   0   0  | aq->nc if Word:fiscal@[0] & Word:jefe@[1] & Word:de@[2]\n",
            "   2   2   0   0  | aq->rg if Word:única@[0] & Word:y@[1] &\n",
            "                  |   Word:exclusivamente@[2]\n",
            "   2   2   0   0  | cc->cs if Word:mientras_que@[0] & Word:la@[1] &\n",
            "                  |   Word:oposición@[2]\n",
            "   2   2   0   0  | cc->rg if Word:ni@[0] & Word:con@[1] & Word:el@[2]\n",
            "   2   2   0   0  | cc->rg if Word:ni@[0] & Word:un@[1] & Word:sólo@[2]\n",
            "   2   2   0   0  | cs->pr if Word:que@[0] & Word:cada@[1] & Word:año@[2]\n",
            "   2   2   0   0  | cs->pr if Word:que@[0] & Word:esta@[1] & Word:temporada@[2]\n",
            "   2   2   0   0  | cs->pr if Word:que@[0] & Word:los@[1] & Word:diferencia@[2]\n",
            "   2   2   0   0  | cs->pr if Word:que@[0] & Word:se@[1] & Word:trate@[2]\n",
            "   2   2   0   0  | cs->sp if Word:según@[0] & Word:él@[1] & Word:,@[2]\n",
            "   2   2   0   0  | da->aq if Word:eventuales@[0] & Word:incidentes@[1] &\n",
            "                  |   Word:que@[2]\n",
            "   2   2   0   0  | da->pp if Word:los@[0] & Word:diferencia@[1] & Word:es@[2]\n",
            "   2   2   0   0  | nc->Z if Word:9,16@[0] & Word:de@[1] & Word:la@[2]\n",
            "   2   2   0   0  | nc->aq if Word:restantes@[0] & Word:1.115.856@[1] &\n",
            "                  |   Word:contrataciones@[2]\n",
            "   2   2   0   0  | nc->np if Word:Comunidades@[0] & Word:con@[1] &\n",
            "                  |   Word:otras@[2]\n",
            "   2   2   0   0  | nc->np if Word:Fab_Five@[0] & Word:-@[1] & Word:,@[2]\n",
            "   2   2   0   0  | p0->pp if Word:se@[0] & Word:conocían@[1] & Word:,@[2]\n",
            "   2   2   0   0  | pr->Z if Word:80.206@[0] & Word:se@[1] &\n",
            "                  |   Word:realizaron@[2]\n",
            "   2   2   0   0  | pr->cs if Word:que@[0] & Word:no@[1] & Word:podemos@[2]\n",
            "   2   2   0   0  | rg->cc if Word:sin_embargo@[0] & Word:,@[1] & Word:el@[2]\n",
            "   2   2   0   0  | rn->rg if Word:no@[0] & Word:hay@[1] & Word:sino@[2]\n",
            "   2   2   0   0  | rn->vmi if Word:hago@[0] & Word:yo@[1] & Word:ahora@[2]\n",
            "   2   2   0   0  | sp->aq if Word:bajo@[0] & Word:grado@[1] & Word:de@[2]\n",
            "   2   2   0   0  | sp->nc if Word:número@[0] & Word:uno@[1] & Word:del@[2]\n",
            "   2   2   0   0  | sp->vmn if Word:debatir@[0] & Word:la@[1] & Word:moción@[2]\n",
            "   2   2   0   0  | vmi->vsi if Word:fueron@[0] & Word:a@[1] & Word:tiempo@[2]\n",
            "   2   2   0   0  | vmn->Z if Word:480@[0] & Word:el@[1] & Word:número@[2]\n",
            "   2   2   0   0  | vmn->nc if Word:inscripción@[0] & Word:una@[1] &\n",
            "                  |   Word:hora@[2]\n",
            "   2   2   0   0  | Fpt->W if Word:Liga@[-1] & Word:1999-2000@[0] & Word:,@[1]\n",
            "   2   2   0   0  | Fpt->aq if Word:francos@[-1] & Word:suizos@[0] &\n",
            "                  |   Word:-Fpa-@[1]\n",
            "   2   2   0   0  | Z->nc if Word:-Fpa-@[-1] & Word:este@[0] & Word:-Fpt-@[1]\n",
            "   2   2   0   0  | aq->nc if Word:los@[-1] & Word:humanos@[0] & Word:,@[1]\n",
            "   2   2   0   0  | aq->rg if Word:,@[-1] & Word:seguro@[0] & Word:que@[1]\n",
            "   2   2   0   0  | cc->cs if Word:,@[-1] & Word:al_tiempo_que@[0] &\n",
            "                  |   Word:el@[1]\n",
            "   2   2   0   0  | cc->cs if Word:,@[-1] & Word:mientras_que@[0] & Word:en@[1]\n",
            "   2   2   0   2  | cs->aq if Word:,@[-1] & Word:incluido@[0] & Word:el@[1]\n",
            "   2   2   0   0  | cs->pr if Word:,@[-1] & Word:que@[0] & Word:como@[1]\n",
            "   2   2   0   0  | cs->pr if Word:,@[-1] & Word:que@[0] & Word:son@[1]\n",
            "   2   2   0   0  | cs->pr if Word:en@[-1] & Word:que@[0] & Word:fue@[1]\n",
            "   2   2   0   0  | di->dn if Word:de@[-1] & Word:un@[0] & Word:siglo@[1]\n",
            "   2   2   0   0  | dn->pn if Word:los@[-1] & Word:seis@[0] & Word:primeros@[1]\n",
            "   2   2   0   0  | nc->aq if Word:a@[-1] & Word:aislante@[0] & Word:.@[1]\n",
            "   2   2   0   0  | nc->vmi if Word:los@[-1] & Word:diferencia@[0] &\n",
            "                  |   Word:es@[1]\n",
            "   2   2   0   0  | np->nc if Word:-Fpa-@[-1] & Word:A@[0] & Word:-Fpt-@[1]\n",
            "   2   2   0   0  | p0->sp if Word:que@[-1] & Word:desde@[0] & Word:hace@[1]\n",
            "   2   2   0   0  | pr->cs if Word:y@[-1] & Word:que@[0] &\n",
            "                  |   Word:probablemente@[1]\n",
            "   2   2   0   0  | pr->vms if Word:otro@[-1] & Word:exista@[0] & Word:es@[1]\n",
            "   2   2   0   0  | rg->aq if Word:fue@[-1] & Word:justo@[0] & Word:,@[1]\n",
            "   2   2   0   0  | vmi->nc if Word:no@[-1] & Word:interferencia@[0] &\n",
            "                  |   Word:en@[1]\n",
            "   2   2   0   0  | vmi->pd if Word:,@[-1] & Word:tales@[0] & Word:como@[1]\n",
            "   2   2   0   0  | vmn->nc if Word:dé@[-1] & Word:comienzo@[0] & Word:la@[1]\n",
            "   2   2   0   0  | vmp->pn if Word:son@[-1] & Word:tres@[0] & Word:los@[1]\n",
            "   2   3   1   0  | aq->nc if Word:argentino@[0] & Word:el@[-1]\n",
            "   2   2   0   0  | aq->nc if Word:brasileña@[0] & Word:la@[-1]\n",
            "   2   2   0   0  | aq->nc if Word:catalán@[0] & Word:el@[-1]\n",
            "   2   2   0   0  | aq->nc if Word:independiente@[0] & Word:como@[-1]\n",
            "   2   2   0   0  | aq->nc if Word:mundial@[0] & Word:el@[-1]\n",
            "   2   2   0   0  | aq->nc if Word:populares@[0] & Word:y@[-1]\n",
            "   2   2   0   0  | aq->nc if Word:web@[0] & Word:página@[-1]\n",
            "   2   2   0   0  | aq->rg if Word:sólo@[0] & Word:un@[-1]\n",
            "   2   2   0   0  | cs->pr if Word:cuando@[0] & Word:entonces@[-1]\n",
            "   2   2   0   0  | cs->pr if Word:que@[0] & Word:Ahora@[-1]\n",
            "   2   2   0   0  | cs->pr if Word:que@[0] & Word:aquellos@[-1]\n",
            "   2   4   2   0  | cs->pr if Word:que@[0] & Word:con@[-1]\n",
            "   2   2   0   0  | da->aq if Word:determinadas@[0] & Word:en@[-1]\n",
            "   2   2   0   0  | da->pr if Word:cuyo@[0] & Word:en@[-1]\n",
            "   2   2   0   0  | da->vmi if Word:hacía@[0] & Word:desde@[-1]\n",
            "   2   2   0   0  | nc->Zm if Word:marcos@[0] & Word:de@[-1]\n",
            "0.9272079544850321\n",
            "126.99083971977234\n"
          ]
        }
      ]
    },
    {
      "cell_type": "code",
      "metadata": {
        "id": "tXrH9PNTRabN",
        "colab": {
          "base_uri": "https://localhost:8080/"
        },
        "outputId": "cb63ddba-738d-4578-89c7-334f1cbc22ba"
      },
      "source": [
        "import time\n",
        "start = time.time()\n",
        "# Etiquetador CRF\n",
        "from nltk.tag import CRFTagger\n",
        "import pycrfsuite\n",
        "import sklearn_crfsuite\n",
        "tamaño = int(len(corpus_limpio_barajado)/10)\n",
        "test = corpus_limpio_barajado[tamaño*9:]\n",
        "entrenamiento = corpus_limpio_barajado[:tamaño*9]\n",
        "crf = nltk.tag.CRFTagger()\n",
        "crf.train(entrenamiento,'model.crf.tagger')\n",
        "resultadoCRF = crf.evaluate(test) \n",
        "print(resultadoCRF)\n",
        "end = time.time()\n",
        "print(end - start)"
      ],
      "execution_count": null,
      "outputs": [
        {
          "output_type": "stream",
          "name": "stdout",
          "text": [
            "0.956373969244484\n",
            "319.47178411483765\n"
          ]
        }
      ]
    },
    {
      "cell_type": "code",
      "metadata": {
        "colab": {
          "base_uri": "https://localhost:8080/"
        },
        "id": "DilGgO-uC1-u",
        "outputId": "4b9c8fd2-c8bd-41d5-d633-5709bfe442c0"
      },
      "source": [
        " !pip install sklearn-pycrfsuite\n",
        " !pip install python-crfsuite"
      ],
      "execution_count": null,
      "outputs": [
        {
          "output_type": "stream",
          "name": "stdout",
          "text": [
            "Collecting sklearn-pycrfsuite\n",
            "  Downloading sklearn-pycrfsuite-0.4.0.tar.gz (24 kB)\n",
            "Requirement already satisfied: tqdm>=2.0 in /usr/local/lib/python3.7/dist-packages (from sklearn-pycrfsuite) (4.62.3)\n",
            "Requirement already satisfied: six in /usr/local/lib/python3.7/dist-packages (from sklearn-pycrfsuite) (1.15.0)\n",
            "Requirement already satisfied: tabulate in /usr/local/lib/python3.7/dist-packages (from sklearn-pycrfsuite) (0.8.9)\n",
            "Collecting python-crfsuite-extension\n",
            "  Downloading python-crfsuite-extension-0.9.7.tar.gz (485 kB)\n",
            "\u001b[K     |████████████████████████████████| 485 kB 16.2 MB/s \n",
            "\u001b[?25hBuilding wheels for collected packages: sklearn-pycrfsuite, python-crfsuite-extension\n",
            "  Building wheel for sklearn-pycrfsuite (setup.py) ... \u001b[?25l\u001b[?25hdone\n",
            "  Created wheel for sklearn-pycrfsuite: filename=sklearn_pycrfsuite-0.4.0-py2.py3-none-any.whl size=11001 sha256=e080a53988fd8c19fe82bb1b1fda0ef8050332ee5be45a3ee1094ccddf5678bb\n",
            "  Stored in directory: /root/.cache/pip/wheels/44/50/b1/295e502c6652f551dc99bfdb394a3fe2fcb47668e333391f38\n",
            "  Building wheel for python-crfsuite-extension (setup.py) ... \u001b[?25l\u001b[?25hdone\n",
            "  Created wheel for python-crfsuite-extension: filename=python_crfsuite_extension-0.9.7-cp37-cp37m-linux_x86_64.whl size=776956 sha256=ea466fee966c78f78abea1ea934629f820507ebe0554857274927e1f4ae95ae4\n",
            "  Stored in directory: /root/.cache/pip/wheels/70/d7/bf/369f4d179407dbf3840132e4135fa61f0bf711f4496d0bf750\n",
            "Successfully built sklearn-pycrfsuite python-crfsuite-extension\n",
            "Installing collected packages: python-crfsuite-extension, sklearn-pycrfsuite\n",
            "Successfully installed python-crfsuite-extension-0.9.7 sklearn-pycrfsuite-0.4.0\n",
            "Collecting python-crfsuite\n",
            "  Downloading python_crfsuite-0.9.7-cp37-cp37m-manylinux1_x86_64.whl (743 kB)\n",
            "\u001b[K     |████████████████████████████████| 743 kB 14.6 MB/s \n",
            "\u001b[?25hInstalling collected packages: python-crfsuite\n",
            "Successfully installed python-crfsuite-0.9.7\n"
          ]
        }
      ]
    },
    {
      "cell_type": "code",
      "metadata": {
        "id": "TQPpnhAOQwpG",
        "colab": {
          "base_uri": "https://localhost:8080/"
        },
        "outputId": "aabd17d8-4375-4c16-d9d8-8293878e9819"
      },
      "source": [
        "start = time.time()\n",
        "from nltk.tag.perceptron import PerceptronTagger\n",
        "# Etiquetador Perceptrón\n",
        "tamaño = int(len(corpus_limpio_barajado)/10)\n",
        "test = corpus_limpio_barajado[tamaño*9:]\n",
        "entrenamiento = corpus_limpio_barajado[:tamaño*9]\n",
        "perceptron = PerceptronTagger(load=False)\n",
        "perceptron.train(entrenamiento)\n",
        "resultadoPerceptron = perceptron.evaluate(test)\n",
        "print(resultadoPerceptron)\n",
        "end = time.time()\n",
        "print(end - start)"
      ],
      "execution_count": null,
      "outputs": [
        {
          "output_type": "stream",
          "name": "stdout",
          "text": [
            "0.9678515712057054\n",
            "53.79025220870972\n"
          ]
        }
      ]
    },
    {
      "cell_type": "code",
      "metadata": {
        "colab": {
          "base_uri": "https://localhost:8080/",
          "height": 295
        },
        "id": "d3NKVO8hm3DQ",
        "outputId": "f50ac43a-214f-4c08-ece4-31b866f35e3c"
      },
      "source": [
        "# Corpus reducido barajado TnT, distintos tamaños de sufijos para palabras desconocidas\n",
        "import matplotlib.pyplot as plt\n",
        "import statistics\n",
        "x = ['brill-uni', 'brill-hmm', 'crf','percep']\n",
        "y = [resultadoBrillUni, resultadoBrillHmm, resultadoCRF, resultadoPerceptron]\n",
        "errores = calcularErrores(y)\n",
        "plt.axis([-1, 4, 0.85, 1])\n",
        "plt.ylabel('Precisión')\n",
        "plt.xlabel('Mecanimos')\n",
        "plt.title('Diferentes métodos usados')\n",
        "plt.plot(x,y,'ro')\n",
        "plt.errorbar(x,y,yerr=errores,linestyle='None')\n",
        "plt.show()"
      ],
      "execution_count": null,
      "outputs": [
        {
          "output_type": "display_data",
          "data": {
            "image/png": "[encoded data removed]",
            "text/plain": [
              "<Figure size 432x288 with 1 Axes>"
            ]
          },
          "metadata": {
            "needs_background": "light"
          }
        }
      ]
    },
    {
      "cell_type": "code",
      "metadata": {
        "colab": {
          "base_uri": "https://localhost:8080/"
        },
        "id": "xNS01w45o5eu",
        "outputId": "ff18ad54-521e-4e3e-94d2-e88bfe07a846"
      },
      "source": [
        "print('Evaluación de prestaciones diferentes etiquetadores')\n",
        "print('Etiquetador -               Precisión - Intervalo de confianza')\n",
        "resultadosOtros = [resultadoBrillUni, resultadoBrillHmm, resultadoCRF, resultadoPerceptron]\n",
        "nombres = ['Brill inicial Unigram', 'Brill inicial hmm', 'CRF', 'Perceptrón']\n",
        "erroresOtros = calcularErrores(resultadosOtros)\n",
        "for i in range(4):\n",
        "  error = erroresOtros[i]\n",
        "  print(nombres[i], '       ',round(resultadosOtros[i],3), '     (',round(resultadosOtros[i]-error,3) ,'-' ,round(resultadosOtros[i]+error,3),')')"
      ],
      "execution_count": null,
      "outputs": [
        {
          "output_type": "stream",
          "name": "stdout",
          "text": [
            "Evaluación de prestaciones diferentes etiquetadores\n",
            "Etiquetador -               Precisión - Intervalo de confianza\n",
            "Brill inicial Unigram         0.897      ( 0.873 - 0.922 )\n",
            "Brill inicial hmm         0.926      ( 0.905 - 0.947 )\n",
            "CRF         0.958      ( 0.942 - 0.974 )\n",
            "Perceptrón         0.968      ( 0.955 - 0.982 )\n"
          ]
        }
      ]
    }
  ]
}